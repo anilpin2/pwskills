{
 "cells": [
  {
   "cell_type": "code",
   "execution_count": 2,
   "id": "d90a81db-ea87-4f4d-93cc-15301cf7b48b",
   "metadata": {},
   "outputs": [
    {
     "name": "stdout",
     "output_type": "stream",
     "text": [
      "Before Swapping : x =  5  y = 6\n",
      "After Swapping : x =  6  y = 5\n"
     ]
    }
   ],
   "source": [
    "#Question No-1-Swapping\n",
    "#Declaring variables\n",
    "#before swapping\n",
    "x,y=5,6\n",
    "print(\"Before Swapping : x = \",x,\" y =\",y)\n",
    "#After Swapping\n",
    "y,x=5,6\n",
    "print(\"After Swapping : x = \",x,\" y =\",y)"
   ]
  },
  {
   "cell_type": "code",
   "execution_count": 3,
   "id": "3ba01c36-db03-4840-9274-9c089e82a8d8",
   "metadata": {},
   "outputs": [
    {
     "name": "stdout",
     "output_type": "stream",
     "text": [
      "Before Swapping : x =  5  y = 6\n",
      "After Swapping : x =  6  y = 5\n"
     ]
    }
   ],
   "source": [
    "#Question No-1-Swapping\n",
    "#Alternate way\n",
    "#Declaring variables\n",
    "#before swapping\n",
    "x,y=5,6\n",
    "print(\"Before Swapping : x = \",x,\" y =\",y)\n",
    "#After Swapping\n",
    "x=x+y\n",
    "y=x-y\n",
    "x=x-y\n",
    "print(\"After Swapping : x = \",x,\" y =\",y)"
   ]
  },
  {
   "cell_type": "code",
   "execution_count": 5,
   "id": "e8adc1b8-b83b-465c-95a4-3550a80bbc32",
   "metadata": {},
   "outputs": [
    {
     "name": "stdin",
     "output_type": "stream",
     "text": [
      "Enter the length of a Rectangle  2.5\n",
      "Enter the breadth of a Rectangle  3.5\n"
     ]
    },
    {
     "name": "stdout",
     "output_type": "stream",
     "text": [
      "Area of the Rectangle is :  8.75\n"
     ]
    }
   ],
   "source": [
    "#Question No-2-Area of rectangle\n",
    "#Declaring variables\n",
    "length = float(input(\"Enter the length of a Rectangle \"))\n",
    "breadth = float(input(\"Enter the breadth of a Rectangle \"))\n",
    "area = length*breadth\n",
    "\n",
    "print(\"Area of the Rectangle is : \",area)"
   ]
  },
  {
   "cell_type": "code",
   "execution_count": 7,
   "id": "db26d51b-3a6d-4e72-98fe-93392b420769",
   "metadata": {},
   "outputs": [
    {
     "name": "stdin",
     "output_type": "stream",
     "text": [
      "Enter the temperature in celsius  40\n"
     ]
    },
    {
     "name": "stdout",
     "output_type": "stream",
     "text": [
      "Temperature in Fahrenheit : 104.0\n"
     ]
    }
   ],
   "source": [
    "#Question No-3-Celsius to fahrenheit\n",
    "#Declaring variables\n",
    "celsius = float(input(\"Enter the temperature in celsius \"))\n",
    "fahrenheit = (celsius*1.8)+32\n",
    "\n",
    "print(\"Temperature in Fahrenheit :\",fahrenheit)"
   ]
  },
  {
   "cell_type": "code",
   "execution_count": 17,
   "id": "6d11332f-1ad2-4b26-b4dd-0a6dd7ae9618",
   "metadata": {},
   "outputs": [
    {
     "name": "stdin",
     "output_type": "stream",
     "text": [
      "Please enter the string :  pwskills\n"
     ]
    },
    {
     "name": "stdout",
     "output_type": "stream",
     "text": [
      "Length of the String is  : 8\n"
     ]
    }
   ],
   "source": [
    "#Question No-1-Length of a string\n",
    "#Declaring variables\n",
    "#String based questions\n",
    "str1=input(\"Please enter the string : \")\n",
    "str2=len(str1)\n",
    "print(\"Length of the String is  :\",str2)"
   ]
  },
  {
   "cell_type": "code",
   "execution_count": 18,
   "id": "3213de3e-71ed-4235-a342-dbf69599b17c",
   "metadata": {},
   "outputs": [
    {
     "name": "stdin",
     "output_type": "stream",
     "text": [
      "Please enter the string :  pwskills\n"
     ]
    },
    {
     "name": "stdout",
     "output_type": "stream",
     "text": [
      "Reverse of the String is  : sllikswp\n"
     ]
    }
   ],
   "source": [
    "#Question No-3-Reversing a string using slicing\n",
    "#Declaring variables\n",
    "#String based questions\n",
    "str1=input(\"Please enter the string : \")\n",
    "str2=str1[::-1]\n",
    "print(\"Reverse of the String is  :\",str2)"
   ]
  },
  {
   "cell_type": "code",
   "execution_count": 22,
   "id": "8f393be6-538f-4a26-8525-9088e756cd6d",
   "metadata": {},
   "outputs": [
    {
     "name": "stdin",
     "output_type": "stream",
     "text": [
      "Please enter the string :  not\n"
     ]
    },
    {
     "name": "stdout",
     "output_type": "stream",
     "text": [
      "Not palindrome\n"
     ]
    }
   ],
   "source": [
    "#Question No-4-Palindrome or not\n",
    "#Declaring variables\n",
    "#String based questions\n",
    "str1=input(\"Please enter the string : \")\n",
    "str2=str1[::-1]\n",
    "str3= str1 == str2\n",
    "if str3:\n",
    "    print(\"String is palindrome\")\n",
    "else:\n",
    "    print(\"Not palindrome\")"
   ]
  },
  {
   "cell_type": "code",
   "execution_count": 23,
   "id": "3af109ce-cf89-4545-88af-355369780004",
   "metadata": {},
   "outputs": [
    {
     "name": "stdin",
     "output_type": "stream",
     "text": [
      "Please enter the string :  I love pwskills\n"
     ]
    },
    {
     "name": "stdout",
     "output_type": "stream",
     "text": [
      "Reverse of the String is  : Ilovepwskills\n"
     ]
    }
   ],
   "source": [
    "#Question No-5-Remove spaces\n",
    "#Declaring variables\n",
    "#String based questions\n",
    "str1=input(\"Please enter the string : \")\n",
    "str2=str1.replace(\" \",\"\")\n",
    "print(\"Reverse of the String is  :\",str2)"
   ]
  },
  {
   "cell_type": "code",
   "execution_count": 28,
   "id": "b31db49a-83b1-480b-ab03-afe74ba7c011",
   "metadata": {},
   "outputs": [
    {
     "name": "stdin",
     "output_type": "stream",
     "text": [
      "Please enter the string :  I love pwskills\n"
     ]
    },
    {
     "name": "stdout",
     "output_type": "stream",
     "text": [
      "Total vowels are : 4\n"
     ]
    }
   ],
   "source": [
    "#Question No-2-Count vowels\n",
    "#Declaring variables\n",
    "#String based questions\n",
    "str1= input(\"Please enter the string : \")\n",
    "count = 0\n",
    "str2 = str1.lower()\n",
    "for i in str2:\n",
    "    if i == 'a' or i == 'e' or i == 'i' or i == 'o' or i == 'u':\n",
    "        #if True\n",
    "        count+=1\n",
    "if count == 0:\n",
    "    print('No vowels found')\n",
    "else:\n",
    "    print('Total vowels are :' , count)"
   ]
  },
  {
   "cell_type": "code",
   "execution_count": null,
   "id": "6bac5991-e303-4252-986d-26f0bcbceda9",
   "metadata": {},
   "outputs": [],
   "source": []
  }
 ],
 "metadata": {
  "kernelspec": {
   "display_name": "Python 3 (ipykernel)",
   "language": "python",
   "name": "python3"
  },
  "language_info": {
   "codemirror_mode": {
    "name": "ipython",
    "version": 3
   },
   "file_extension": ".py",
   "mimetype": "text/x-python",
   "name": "python",
   "nbconvert_exporter": "python",
   "pygments_lexer": "ipython3",
   "version": "3.10.8"
  }
 },
 "nbformat": 4,
 "nbformat_minor": 5
}
